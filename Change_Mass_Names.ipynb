{
 "cells": [
  {
   "cell_type": "code",
   "execution_count": 8,
   "id": "2a81ae37",
   "metadata": {},
   "outputs": [],
   "source": [
    "import datetime\n",
    "import os"
   ]
  },
  {
   "cell_type": "code",
   "execution_count": null,
   "id": "62922bac",
   "metadata": {},
   "outputs": [],
   "source": [
    "prifix = input(\"enter prifix\")\n",
    "def rename_files(folder_path, file_extension):\n",
    "    for root, dirs, files in os.walk(folder_path):\n",
    "        for file in files:\n",
    "            if file.lower().endswith(file_extension.lower()):\n",
    "                old_file_path = os.path.join(root, file)\n",
    "\n",
    "                today = datetime.date.today()\n",
    "                today_dd = today.strftime('%d')\n",
    "                # week_number = today.isocalendar()[1]\n",
    "                month_abbr = today.strftime('%b')\n",
    "                year = today.strftime('%Y')\n",
    "                # prifix = input(\"enter prifix\")\n",
    "\n",
    "                base_name = f\"{prifix}_{today_dd}_{month_abbr}_{year}\"\n",
    "                new_file_name = f\"{base_name}{file_extension}\"\n",
    "                new_file_path = os.path.join(root, new_file_name)\n",
    "\n",
    "                counter = 1\n",
    "                while os.path.exists(new_file_path):\n",
    "                    new_file_name = f\"{base_name}_{counter}{file_extension}\"\n",
    "                    new_file_path = os.path.join(root, new_file_name)\n",
    "                    counter += 1\n",
    "\n",
    "                os.rename(old_file_path, new_file_path)\n",
    "                print(f\"Renamed: {old_file_path} -> {new_file_path}\")\n"
   ]
  },
  {
   "cell_type": "code",
   "execution_count": 14,
   "id": "3fff397c",
   "metadata": {},
   "outputs": [
    {
     "name": "stdout",
     "output_type": "stream",
     "text": [
      "Renamed: C:\\Coding\\Python_Code\\testing\\this_isprefix13_Aug_2025.xlsx -> C:\\Coding\\Python_Code\\testing\\hello13_Aug_2025.xlsx\n",
      "Renamed: C:\\Coding\\Python_Code\\testing\\this_is_prifix13_Aug_2025.xlsx -> C:\\Coding\\Python_Code\\testing\\hello13_Aug_2025_1.xlsx\n",
      "Renamed: C:\\Coding\\Python_Code\\testing\\hello\\13_Aug_2025_1.xlsx -> C:\\Coding\\Python_Code\\testing\\hello\\hello13_Aug_2025.xlsx\n",
      "Renamed: C:\\Coding\\Python_Code\\testing\\world\\13_Aug_2025_1.xlsx -> C:\\Coding\\Python_Code\\testing\\world\\hello13_Aug_2025.xlsx\n"
     ]
    }
   ],
   "source": [
    "# Example usage\n",
    "folder_path = r'C:\\Coding\\Python_Code\\testing'  # Replace with your folder path\n",
    "file_extension = '.xlsx'  # Replace with '.csv' or '.xlsx'\n",
    "rename_files(folder_path, file_extension)\n"
   ]
  },
  {
   "cell_type": "code",
   "execution_count": null,
   "id": "7871b36e",
   "metadata": {},
   "outputs": [],
   "source": []
  }
 ],
 "metadata": {
  "kernelspec": {
   "display_name": "myenv",
   "language": "python",
   "name": "python3"
  },
  "language_info": {
   "codemirror_mode": {
    "name": "ipython",
    "version": 3
   },
   "file_extension": ".py",
   "mimetype": "text/x-python",
   "name": "python",
   "nbconvert_exporter": "python",
   "pygments_lexer": "ipython3",
   "version": "3.11.9"
  }
 },
 "nbformat": 4,
 "nbformat_minor": 5
}
